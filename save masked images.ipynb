{
 "cells": [
  {
   "cell_type": "code",
   "execution_count": 1,
   "metadata": {},
   "outputs": [],
   "source": [
    "import cv2\n",
    "import os"
   ]
  },
  {
   "cell_type": "code",
   "execution_count": 2,
   "metadata": {},
   "outputs": [],
   "source": [
    "# Function to apply mask and save images\n",
    "def process_images(src_folder, dest_masked_folder):\n",
    "    # Ensure destination folder exists\n",
    "    os.makedirs(dest_masked_folder, exist_ok=True)\n",
    "\n",
    "    # Iterate through all files in the source folder\n",
    "    for filename in os.listdir(src_folder):\n",
    "        if filename.endswith(\".jpg\") or filename.endswith(\".jpeg\") or filename.endswith(\".png\"):\n",
    "            # Read the image\n",
    "            img = cv2.imread(os.path.join(src_folder, filename))\n",
    "\n",
    "            # Apply the mask\n",
    "            hsv = cv2.cvtColor(img, cv2.COLOR_BGR2HSV)\n",
    "            # mask = cv2.inRange(hsv, (10, 125, 125), (30, 250, 250))\n",
    "            mask = cv2.inRange(hsv, (10, 150, 125), (30, 250, 250))\n",
    "            # masked_img = cv2.bitwise_and(img, img, mask=mask)\n",
    "\n",
    "            # Save masked images\n",
    "            cv2.imwrite(os.path.join(dest_masked_folder, f\"masked_{filename}\"), mask)\n"
   ]
  },
  {
   "cell_type": "code",
   "execution_count": 3,
   "metadata": {},
   "outputs": [],
   "source": [
    "# Specify the source and destination folders\n",
    "src_folder = 'matang'\n",
    "dest_masked_folder = 'matang-masked'\n",
    "\n",
    "# Process the images\n",
    "process_images(src_folder, dest_masked_folder)"
   ]
  }
 ],
 "metadata": {
  "kernelspec": {
   "display_name": "Python 3",
   "language": "python",
   "name": "python3"
  },
  "language_info": {
   "codemirror_mode": {
    "name": "ipython",
    "version": 3
   },
   "file_extension": ".py",
   "mimetype": "text/x-python",
   "name": "python",
   "nbconvert_exporter": "python",
   "pygments_lexer": "ipython3",
   "version": "3.11.5"
  }
 },
 "nbformat": 4,
 "nbformat_minor": 2
}
